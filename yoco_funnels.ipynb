{
 "cells": [
  {
   "cell_type": "markdown",
   "metadata": {},
   "source": [
    "# Funnel Analysis Workings"
   ]
  },
  {
   "cell_type": "code",
   "execution_count": 19,
   "metadata": {},
   "outputs": [
    {
     "name": "stdout",
     "output_type": "stream",
     "text": [
      "<class 'pandas.core.frame.DataFrame'>\n",
      "Int64Index: 20983 entries, 0 to 24774\n",
      "Data columns (total 4 columns):\n",
      "timestamp             20983 non-null datetime64[ns]\n",
      "event                 20983 non-null object\n",
      "user_id               20983 non-null object\n",
      "context_os_version    20983 non-null object\n",
      "dtypes: datetime64[ns](1), object(3)\n",
      "memory usage: 819.6+ KB\n"
     ]
    }
   ],
   "source": [
    "import pandas as pd\n",
    "import numpy as np\n",
    "import matplotlib\n",
    "import matplotlib.pyplot as plt\n",
    "import seaborn as sns\n",
    "from chart_studio.plotly import plotly\n",
    "from plotly.offline import plot\n",
    "import plotly.graph_objs as go\n",
    "from ipynb.fs.full.functions import create_funnel_df, group_funnel_dfs, plot_stacked_funnel\n",
    "sns.set(rc={'figure.figsize':(25, 8)})\n",
    "%matplotlib inline\n",
    "\n",
    "# import dataset and view head\n",
    "df = pd.read_csv('data/yoco/capital_events_case_study.csv')\n",
    "\n",
    "# set timestamp to correct data type\n",
    "df['timestamp'] = pd.to_datetime(df['timestamp'])\n",
    "\n",
    "# Remove nulls as there are only 5 a very small percentage\n",
    "df=df.dropna()\n",
    "\n",
    "# Dop duplicate rows as there is only 1\n",
    "df.drop_duplicates(inplace=True)\n",
    "\n",
    "# filter frame to Aug, Sep & Oct only - full months analysis only\n",
    "df = df[(df['timestamp'] >= '2020-08-01') & (df['timestamp'] <= '2020-10-31')]\n",
    "\n",
    "df.info()"
   ]
  },
  {
   "cell_type": "markdown",
   "metadata": {},
   "source": [
    "### Use what we learned in click analysis and map events for end users ease of use"
   ]
  },
  {
   "cell_type": "code",
   "execution_count": 20,
   "metadata": {},
   "outputs": [],
   "source": [
    "# copy events column\n",
    "df['event_name'] = df['event']\n",
    "# Replace multiple values with multiple new values for an individual DataFrame column:\n",
    "oldnames = ['pos_home_capital_card_pressed',\n",
    "            'pos_capital_button_let_me_know',\n",
    "            'pos_capital_button_get_cash_advance',\n",
    "            'pos_capital_button_continue',\n",
    "            'pos_capital_button_accept_offer',\n",
    "            'pos_capital_link_view_offer_contract',\n",
    "            'pos_capital_link_view_offer_tos',\n",
    "            'pos_capital_button_decline_offer',\n",
    "            'pos_capital_button_get_more_capital']\n",
    "\n",
    "newnames = ['Merchants Opening Capital Tab',\n",
    "           'Let me know Button clicked',\n",
    "           'Get cash advance Button clicked',\n",
    "           'Continue clicked',\n",
    "           'Accept Offer clicked',\n",
    "           'View Contract clicked',\n",
    "           'Read full agreement clicked',\n",
    "           'Decline Offer clicked',\n",
    "           'Get more capital clicked']\n",
    "\n",
    "\n",
    "df['event_name'] = df['event_name'].replace(oldnames,newnames)"
   ]
  },
  {
   "cell_type": "markdown",
   "metadata": {},
   "source": [
    "### Define the critical paths we want to analyse in the funnel"
   ]
  },
  {
   "cell_type": "code",
   "execution_count": 21,
   "metadata": {},
   "outputs": [],
   "source": [
    "accept_steps = ['Merchants Opening Capital Tab','Get cash advance Button clicked','Continue clicked','Accept Offer clicked','View Contract clicked']\n",
    "accept_steps_two = ['Get cash advance Button clicked','Continue clicked','Accept Offer clicked','View Contract clicked']\n",
    "\n",
    "decline_steps = ['pos_home_capital_card_pressed','pos_capital_button_get_cash_advance','pos_capital_button_continue','pos_capital_button_decline_offer']"
   ]
  },
  {
   "cell_type": "markdown",
   "metadata": {},
   "source": [
    "### Use our functions to create funnel dataframes and then plot in plotly - note this produces a temporary html"
   ]
  },
  {
   "cell_type": "code",
   "execution_count": 22,
   "metadata": {},
   "outputs": [
    {
     "data": {
      "text/html": [
       "<div>\n",
       "<style scoped>\n",
       "    .dataframe tbody tr th:only-of-type {\n",
       "        vertical-align: middle;\n",
       "    }\n",
       "\n",
       "    .dataframe tbody tr th {\n",
       "        vertical-align: top;\n",
       "    }\n",
       "\n",
       "    .dataframe thead th {\n",
       "        text-align: right;\n",
       "    }\n",
       "</style>\n",
       "<table border=\"1\" class=\"dataframe\">\n",
       "  <thead>\n",
       "    <tr style=\"text-align: right;\">\n",
       "      <th></th>\n",
       "      <th>step</th>\n",
       "      <th>val</th>\n",
       "      <th>pct</th>\n",
       "      <th>val-1</th>\n",
       "      <th>pct_from_first</th>\n",
       "    </tr>\n",
       "  </thead>\n",
       "  <tbody>\n",
       "    <tr>\n",
       "      <th>0</th>\n",
       "      <td>Merchants Opening Capital Tab</td>\n",
       "      <td>3732</td>\n",
       "      <td>100</td>\n",
       "      <td>NaN</td>\n",
       "      <td>100</td>\n",
       "    </tr>\n",
       "    <tr>\n",
       "      <th>1</th>\n",
       "      <td>Get cash advance Button clicked</td>\n",
       "      <td>341</td>\n",
       "      <td>9</td>\n",
       "      <td>3732.0</td>\n",
       "      <td>9</td>\n",
       "    </tr>\n",
       "    <tr>\n",
       "      <th>2</th>\n",
       "      <td>Continue clicked</td>\n",
       "      <td>251</td>\n",
       "      <td>73</td>\n",
       "      <td>341.0</td>\n",
       "      <td>6</td>\n",
       "    </tr>\n",
       "    <tr>\n",
       "      <th>3</th>\n",
       "      <td>Accept Offer clicked</td>\n",
       "      <td>215</td>\n",
       "      <td>85</td>\n",
       "      <td>251.0</td>\n",
       "      <td>5</td>\n",
       "    </tr>\n",
       "    <tr>\n",
       "      <th>4</th>\n",
       "      <td>View Contract clicked</td>\n",
       "      <td>108</td>\n",
       "      <td>50</td>\n",
       "      <td>215.0</td>\n",
       "      <td>2</td>\n",
       "    </tr>\n",
       "  </tbody>\n",
       "</table>\n",
       "</div>"
      ],
      "text/plain": [
       "                              step   val  pct   val-1  pct_from_first\n",
       "0    Merchants Opening Capital Tab  3732  100     NaN             100\n",
       "1  Get cash advance Button clicked   341    9  3732.0               9\n",
       "2                 Continue clicked   251   73   341.0               6\n",
       "3             Accept Offer clicked   215   85   251.0               5\n",
       "4            View Contract clicked   108   50   215.0               2"
      ]
     },
     "execution_count": 22,
     "metadata": {},
     "output_type": "execute_result"
    }
   ],
   "source": [
    "create_funnel_df(df, accept_steps)"
   ]
  },
  {
   "cell_type": "code",
   "execution_count": 23,
   "metadata": {},
   "outputs": [
    {
     "data": {
      "text/html": [
       "<div>\n",
       "<style scoped>\n",
       "    .dataframe tbody tr th:only-of-type {\n",
       "        vertical-align: middle;\n",
       "    }\n",
       "\n",
       "    .dataframe tbody tr th {\n",
       "        vertical-align: top;\n",
       "    }\n",
       "\n",
       "    .dataframe thead th {\n",
       "        text-align: right;\n",
       "    }\n",
       "</style>\n",
       "<table border=\"1\" class=\"dataframe\">\n",
       "  <thead>\n",
       "    <tr style=\"text-align: right;\">\n",
       "      <th></th>\n",
       "      <th>step</th>\n",
       "      <th>val</th>\n",
       "      <th>pct</th>\n",
       "      <th>val-1</th>\n",
       "      <th>pct_from_first</th>\n",
       "    </tr>\n",
       "  </thead>\n",
       "  <tbody>\n",
       "    <tr>\n",
       "      <th>0</th>\n",
       "      <td>Merchants Opening Capital Tab</td>\n",
       "      <td>1537</td>\n",
       "      <td>100</td>\n",
       "      <td>NaN</td>\n",
       "      <td>100</td>\n",
       "    </tr>\n",
       "    <tr>\n",
       "      <th>1</th>\n",
       "      <td>Get cash advance Button clicked</td>\n",
       "      <td>216</td>\n",
       "      <td>14</td>\n",
       "      <td>1537.0</td>\n",
       "      <td>14</td>\n",
       "    </tr>\n",
       "    <tr>\n",
       "      <th>2</th>\n",
       "      <td>Continue clicked</td>\n",
       "      <td>169</td>\n",
       "      <td>78</td>\n",
       "      <td>216.0</td>\n",
       "      <td>10</td>\n",
       "    </tr>\n",
       "    <tr>\n",
       "      <th>3</th>\n",
       "      <td>Accept Offer clicked</td>\n",
       "      <td>147</td>\n",
       "      <td>86</td>\n",
       "      <td>169.0</td>\n",
       "      <td>9</td>\n",
       "    </tr>\n",
       "    <tr>\n",
       "      <th>4</th>\n",
       "      <td>View Contract clicked</td>\n",
       "      <td>69</td>\n",
       "      <td>46</td>\n",
       "      <td>147.0</td>\n",
       "      <td>4</td>\n",
       "    </tr>\n",
       "  </tbody>\n",
       "</table>\n",
       "</div>"
      ],
      "text/plain": [
       "                              step   val  pct   val-1  pct_from_first\n",
       "0    Merchants Opening Capital Tab  1537  100     NaN             100\n",
       "1  Get cash advance Button clicked   216   14  1537.0              14\n",
       "2                 Continue clicked   169   78   216.0              10\n",
       "3             Accept Offer clicked   147   86   169.0               9\n",
       "4            View Contract clicked    69   46   147.0               4"
      ]
     },
     "execution_count": 23,
     "metadata": {},
     "output_type": "execute_result"
    }
   ],
   "source": [
    "create_funnel_df(df, accept_steps, from_date='2020-08-01', to_date='2020-08-31')"
   ]
  },
  {
   "cell_type": "code",
   "execution_count": 24,
   "metadata": {},
   "outputs": [
    {
     "data": {
      "text/html": [
       "<div>\n",
       "<style scoped>\n",
       "    .dataframe tbody tr th:only-of-type {\n",
       "        vertical-align: middle;\n",
       "    }\n",
       "\n",
       "    .dataframe tbody tr th {\n",
       "        vertical-align: top;\n",
       "    }\n",
       "\n",
       "    .dataframe thead th {\n",
       "        text-align: right;\n",
       "    }\n",
       "</style>\n",
       "<table border=\"1\" class=\"dataframe\">\n",
       "  <thead>\n",
       "    <tr style=\"text-align: right;\">\n",
       "      <th></th>\n",
       "      <th>step</th>\n",
       "      <th>val</th>\n",
       "      <th>pct</th>\n",
       "      <th>val-1</th>\n",
       "      <th>pct_from_first</th>\n",
       "    </tr>\n",
       "  </thead>\n",
       "  <tbody>\n",
       "    <tr>\n",
       "      <th>0</th>\n",
       "      <td>Merchants Opening Capital Tab</td>\n",
       "      <td>1064</td>\n",
       "      <td>100</td>\n",
       "      <td>NaN</td>\n",
       "      <td>100</td>\n",
       "    </tr>\n",
       "    <tr>\n",
       "      <th>1</th>\n",
       "      <td>Get cash advance Button clicked</td>\n",
       "      <td>62</td>\n",
       "      <td>5</td>\n",
       "      <td>1064.0</td>\n",
       "      <td>5</td>\n",
       "    </tr>\n",
       "    <tr>\n",
       "      <th>2</th>\n",
       "      <td>Continue clicked</td>\n",
       "      <td>46</td>\n",
       "      <td>74</td>\n",
       "      <td>62.0</td>\n",
       "      <td>4</td>\n",
       "    </tr>\n",
       "    <tr>\n",
       "      <th>3</th>\n",
       "      <td>Accept Offer clicked</td>\n",
       "      <td>42</td>\n",
       "      <td>91</td>\n",
       "      <td>46.0</td>\n",
       "      <td>3</td>\n",
       "    </tr>\n",
       "    <tr>\n",
       "      <th>4</th>\n",
       "      <td>View Contract clicked</td>\n",
       "      <td>27</td>\n",
       "      <td>64</td>\n",
       "      <td>42.0</td>\n",
       "      <td>2</td>\n",
       "    </tr>\n",
       "  </tbody>\n",
       "</table>\n",
       "</div>"
      ],
      "text/plain": [
       "                              step   val  pct   val-1  pct_from_first\n",
       "0    Merchants Opening Capital Tab  1064  100     NaN             100\n",
       "1  Get cash advance Button clicked    62    5  1064.0               5\n",
       "2                 Continue clicked    46   74    62.0               4\n",
       "3             Accept Offer clicked    42   91    46.0               3\n",
       "4            View Contract clicked    27   64    42.0               2"
      ]
     },
     "execution_count": 24,
     "metadata": {},
     "output_type": "execute_result"
    }
   ],
   "source": [
    "create_funnel_df(df, accept_steps, from_date='2020-09-01', to_date='2020-09-30')"
   ]
  },
  {
   "cell_type": "code",
   "execution_count": 25,
   "metadata": {},
   "outputs": [
    {
     "data": {
      "text/html": [
       "<div>\n",
       "<style scoped>\n",
       "    .dataframe tbody tr th:only-of-type {\n",
       "        vertical-align: middle;\n",
       "    }\n",
       "\n",
       "    .dataframe tbody tr th {\n",
       "        vertical-align: top;\n",
       "    }\n",
       "\n",
       "    .dataframe thead th {\n",
       "        text-align: right;\n",
       "    }\n",
       "</style>\n",
       "<table border=\"1\" class=\"dataframe\">\n",
       "  <thead>\n",
       "    <tr style=\"text-align: right;\">\n",
       "      <th></th>\n",
       "      <th>step</th>\n",
       "      <th>val</th>\n",
       "      <th>pct</th>\n",
       "      <th>val-1</th>\n",
       "      <th>pct_from_first</th>\n",
       "    </tr>\n",
       "  </thead>\n",
       "  <tbody>\n",
       "    <tr>\n",
       "      <th>0</th>\n",
       "      <td>Merchants Opening Capital Tab</td>\n",
       "      <td>1041</td>\n",
       "      <td>100</td>\n",
       "      <td>NaN</td>\n",
       "      <td>100</td>\n",
       "    </tr>\n",
       "    <tr>\n",
       "      <th>1</th>\n",
       "      <td>Get cash advance Button clicked</td>\n",
       "      <td>56</td>\n",
       "      <td>5</td>\n",
       "      <td>1041.0</td>\n",
       "      <td>5</td>\n",
       "    </tr>\n",
       "    <tr>\n",
       "      <th>2</th>\n",
       "      <td>Continue clicked</td>\n",
       "      <td>29</td>\n",
       "      <td>51</td>\n",
       "      <td>56.0</td>\n",
       "      <td>2</td>\n",
       "    </tr>\n",
       "    <tr>\n",
       "      <th>3</th>\n",
       "      <td>Accept Offer clicked</td>\n",
       "      <td>21</td>\n",
       "      <td>72</td>\n",
       "      <td>29.0</td>\n",
       "      <td>2</td>\n",
       "    </tr>\n",
       "    <tr>\n",
       "      <th>4</th>\n",
       "      <td>View Contract clicked</td>\n",
       "      <td>9</td>\n",
       "      <td>42</td>\n",
       "      <td>21.0</td>\n",
       "      <td>0</td>\n",
       "    </tr>\n",
       "  </tbody>\n",
       "</table>\n",
       "</div>"
      ],
      "text/plain": [
       "                              step   val  pct   val-1  pct_from_first\n",
       "0    Merchants Opening Capital Tab  1041  100     NaN             100\n",
       "1  Get cash advance Button clicked    56    5  1041.0               5\n",
       "2                 Continue clicked    29   51    56.0               2\n",
       "3             Accept Offer clicked    21   72    29.0               2\n",
       "4            View Contract clicked     9   42    21.0               0"
      ]
     },
     "execution_count": 25,
     "metadata": {},
     "output_type": "execute_result"
    }
   ],
   "source": [
    "create_funnel_df(df, accept_steps, from_date='2020-10-01', to_date='2020-10-31')"
   ]
  },
  {
   "cell_type": "code",
   "execution_count": 26,
   "metadata": {},
   "outputs": [
    {
     "data": {
      "text/plain": [
       "'temp-plot.html'"
      ]
     },
     "execution_count": 26,
     "metadata": {},
     "output_type": "execute_result"
    }
   ],
   "source": [
    "\n",
    "fig = plot_stacked_funnel(df, accept_steps)\n",
    "plot(fig)\n",
    "\n",
    "# when running the monthly plots with date range\n",
    "\n",
    "# from chart_studio.plotly import plotly\n",
    "# from plotly.offline import plot\n",
    "# import plotly.graph_objs as go\n",
    "# fig = plot_stacked_funnel(df, accept_steps, from_date='2020-10-01', to_date='2020-10-31')\n",
    "# plot(fig)"
   ]
  },
  {
   "cell_type": "markdown",
   "metadata": {},
   "source": [
    "### Update the critical path and create funnel frames on the new steps"
   ]
  },
  {
   "cell_type": "code",
   "execution_count": 27,
   "metadata": {},
   "outputs": [
    {
     "data": {
      "text/html": [
       "<div>\n",
       "<style scoped>\n",
       "    .dataframe tbody tr th:only-of-type {\n",
       "        vertical-align: middle;\n",
       "    }\n",
       "\n",
       "    .dataframe tbody tr th {\n",
       "        vertical-align: top;\n",
       "    }\n",
       "\n",
       "    .dataframe thead th {\n",
       "        text-align: right;\n",
       "    }\n",
       "</style>\n",
       "<table border=\"1\" class=\"dataframe\">\n",
       "  <thead>\n",
       "    <tr style=\"text-align: right;\">\n",
       "      <th></th>\n",
       "      <th>step</th>\n",
       "      <th>val</th>\n",
       "      <th>pct</th>\n",
       "      <th>val-1</th>\n",
       "      <th>pct_from_first</th>\n",
       "    </tr>\n",
       "  </thead>\n",
       "  <tbody>\n",
       "    <tr>\n",
       "      <th>0</th>\n",
       "      <td>Get cash advance Button clicked</td>\n",
       "      <td>351</td>\n",
       "      <td>100</td>\n",
       "      <td>NaN</td>\n",
       "      <td>100</td>\n",
       "    </tr>\n",
       "    <tr>\n",
       "      <th>1</th>\n",
       "      <td>Continue clicked</td>\n",
       "      <td>258</td>\n",
       "      <td>73</td>\n",
       "      <td>351.0</td>\n",
       "      <td>73</td>\n",
       "    </tr>\n",
       "    <tr>\n",
       "      <th>2</th>\n",
       "      <td>Accept Offer clicked</td>\n",
       "      <td>222</td>\n",
       "      <td>86</td>\n",
       "      <td>258.0</td>\n",
       "      <td>63</td>\n",
       "    </tr>\n",
       "    <tr>\n",
       "      <th>3</th>\n",
       "      <td>View Contract clicked</td>\n",
       "      <td>113</td>\n",
       "      <td>50</td>\n",
       "      <td>222.0</td>\n",
       "      <td>32</td>\n",
       "    </tr>\n",
       "  </tbody>\n",
       "</table>\n",
       "</div>"
      ],
      "text/plain": [
       "                              step  val  pct  val-1  pct_from_first\n",
       "0  Get cash advance Button clicked  351  100    NaN             100\n",
       "1                 Continue clicked  258   73  351.0              73\n",
       "2             Accept Offer clicked  222   86  258.0              63\n",
       "3            View Contract clicked  113   50  222.0              32"
      ]
     },
     "execution_count": 27,
     "metadata": {},
     "output_type": "execute_result"
    }
   ],
   "source": [
    "create_funnel_df(df, accept_steps_two)"
   ]
  },
  {
   "cell_type": "code",
   "execution_count": 28,
   "metadata": {},
   "outputs": [
    {
     "data": {
      "text/html": [
       "<div>\n",
       "<style scoped>\n",
       "    .dataframe tbody tr th:only-of-type {\n",
       "        vertical-align: middle;\n",
       "    }\n",
       "\n",
       "    .dataframe tbody tr th {\n",
       "        vertical-align: top;\n",
       "    }\n",
       "\n",
       "    .dataframe thead th {\n",
       "        text-align: right;\n",
       "    }\n",
       "</style>\n",
       "<table border=\"1\" class=\"dataframe\">\n",
       "  <thead>\n",
       "    <tr style=\"text-align: right;\">\n",
       "      <th></th>\n",
       "      <th>step</th>\n",
       "      <th>val</th>\n",
       "      <th>pct</th>\n",
       "      <th>val-1</th>\n",
       "      <th>pct_from_first</th>\n",
       "    </tr>\n",
       "  </thead>\n",
       "  <tbody>\n",
       "    <tr>\n",
       "      <th>0</th>\n",
       "      <td>Get cash advance Button clicked</td>\n",
       "      <td>110</td>\n",
       "      <td>100</td>\n",
       "      <td>NaN</td>\n",
       "      <td>100</td>\n",
       "    </tr>\n",
       "    <tr>\n",
       "      <th>1</th>\n",
       "      <td>Continue clicked</td>\n",
       "      <td>78</td>\n",
       "      <td>70</td>\n",
       "      <td>110.0</td>\n",
       "      <td>70</td>\n",
       "    </tr>\n",
       "    <tr>\n",
       "      <th>2</th>\n",
       "      <td>Accept Offer clicked</td>\n",
       "      <td>69</td>\n",
       "      <td>88</td>\n",
       "      <td>78.0</td>\n",
       "      <td>62</td>\n",
       "    </tr>\n",
       "    <tr>\n",
       "      <th>3</th>\n",
       "      <td>View Contract clicked</td>\n",
       "      <td>37</td>\n",
       "      <td>53</td>\n",
       "      <td>69.0</td>\n",
       "      <td>33</td>\n",
       "    </tr>\n",
       "  </tbody>\n",
       "</table>\n",
       "</div>"
      ],
      "text/plain": [
       "                              step  val  pct  val-1  pct_from_first\n",
       "0  Get cash advance Button clicked  110  100    NaN             100\n",
       "1                 Continue clicked   78   70  110.0              70\n",
       "2             Accept Offer clicked   69   88   78.0              62\n",
       "3            View Contract clicked   37   53   69.0              33"
      ]
     },
     "execution_count": 28,
     "metadata": {},
     "output_type": "execute_result"
    }
   ],
   "source": [
    "create_funnel_df(df, accept_steps_two, from_date='2020-08-01', to_date='2020-08-31')"
   ]
  },
  {
   "cell_type": "code",
   "execution_count": 29,
   "metadata": {},
   "outputs": [
    {
     "data": {
      "text/html": [
       "<div>\n",
       "<style scoped>\n",
       "    .dataframe tbody tr th:only-of-type {\n",
       "        vertical-align: middle;\n",
       "    }\n",
       "\n",
       "    .dataframe tbody tr th {\n",
       "        vertical-align: top;\n",
       "    }\n",
       "\n",
       "    .dataframe thead th {\n",
       "        text-align: right;\n",
       "    }\n",
       "</style>\n",
       "<table border=\"1\" class=\"dataframe\">\n",
       "  <thead>\n",
       "    <tr style=\"text-align: right;\">\n",
       "      <th></th>\n",
       "      <th>step</th>\n",
       "      <th>val</th>\n",
       "      <th>pct</th>\n",
       "      <th>val-1</th>\n",
       "      <th>pct_from_first</th>\n",
       "    </tr>\n",
       "  </thead>\n",
       "  <tbody>\n",
       "    <tr>\n",
       "      <th>0</th>\n",
       "      <td>Get cash advance Button clicked</td>\n",
       "      <td>94</td>\n",
       "      <td>100</td>\n",
       "      <td>NaN</td>\n",
       "      <td>100</td>\n",
       "    </tr>\n",
       "    <tr>\n",
       "      <th>1</th>\n",
       "      <td>Continue clicked</td>\n",
       "      <td>76</td>\n",
       "      <td>80</td>\n",
       "      <td>94.0</td>\n",
       "      <td>80</td>\n",
       "    </tr>\n",
       "    <tr>\n",
       "      <th>2</th>\n",
       "      <td>Accept Offer clicked</td>\n",
       "      <td>64</td>\n",
       "      <td>84</td>\n",
       "      <td>76.0</td>\n",
       "      <td>68</td>\n",
       "    </tr>\n",
       "    <tr>\n",
       "      <th>3</th>\n",
       "      <td>View Contract clicked</td>\n",
       "      <td>33</td>\n",
       "      <td>51</td>\n",
       "      <td>64.0</td>\n",
       "      <td>35</td>\n",
       "    </tr>\n",
       "  </tbody>\n",
       "</table>\n",
       "</div>"
      ],
      "text/plain": [
       "                              step  val  pct  val-1  pct_from_first\n",
       "0  Get cash advance Button clicked   94  100    NaN             100\n",
       "1                 Continue clicked   76   80   94.0              80\n",
       "2             Accept Offer clicked   64   84   76.0              68\n",
       "3            View Contract clicked   33   51   64.0              35"
      ]
     },
     "execution_count": 29,
     "metadata": {},
     "output_type": "execute_result"
    }
   ],
   "source": [
    "create_funnel_df(df, accept_steps_two, from_date='2020-09-01', to_date='2020-09-30')"
   ]
  },
  {
   "cell_type": "code",
   "execution_count": 30,
   "metadata": {},
   "outputs": [
    {
     "data": {
      "text/html": [
       "<div>\n",
       "<style scoped>\n",
       "    .dataframe tbody tr th:only-of-type {\n",
       "        vertical-align: middle;\n",
       "    }\n",
       "\n",
       "    .dataframe tbody tr th {\n",
       "        vertical-align: top;\n",
       "    }\n",
       "\n",
       "    .dataframe thead th {\n",
       "        text-align: right;\n",
       "    }\n",
       "</style>\n",
       "<table border=\"1\" class=\"dataframe\">\n",
       "  <thead>\n",
       "    <tr style=\"text-align: right;\">\n",
       "      <th></th>\n",
       "      <th>step</th>\n",
       "      <th>val</th>\n",
       "      <th>pct</th>\n",
       "      <th>val-1</th>\n",
       "      <th>pct_from_first</th>\n",
       "    </tr>\n",
       "  </thead>\n",
       "  <tbody>\n",
       "    <tr>\n",
       "      <th>0</th>\n",
       "      <td>Get cash advance Button clicked</td>\n",
       "      <td>136</td>\n",
       "      <td>100</td>\n",
       "      <td>NaN</td>\n",
       "      <td>100</td>\n",
       "    </tr>\n",
       "    <tr>\n",
       "      <th>1</th>\n",
       "      <td>Continue clicked</td>\n",
       "      <td>94</td>\n",
       "      <td>69</td>\n",
       "      <td>136.0</td>\n",
       "      <td>69</td>\n",
       "    </tr>\n",
       "    <tr>\n",
       "      <th>2</th>\n",
       "      <td>Accept Offer clicked</td>\n",
       "      <td>79</td>\n",
       "      <td>84</td>\n",
       "      <td>94.0</td>\n",
       "      <td>58</td>\n",
       "    </tr>\n",
       "    <tr>\n",
       "      <th>3</th>\n",
       "      <td>View Contract clicked</td>\n",
       "      <td>35</td>\n",
       "      <td>44</td>\n",
       "      <td>79.0</td>\n",
       "      <td>25</td>\n",
       "    </tr>\n",
       "  </tbody>\n",
       "</table>\n",
       "</div>"
      ],
      "text/plain": [
       "                              step  val  pct  val-1  pct_from_first\n",
       "0  Get cash advance Button clicked  136  100    NaN             100\n",
       "1                 Continue clicked   94   69  136.0              69\n",
       "2             Accept Offer clicked   79   84   94.0              58\n",
       "3            View Contract clicked   35   44   79.0              25"
      ]
     },
     "execution_count": 30,
     "metadata": {},
     "output_type": "execute_result"
    }
   ],
   "source": [
    "create_funnel_df(df, accept_steps_two, from_date='2020-10-01', to_date='2020-10-31')"
   ]
  },
  {
   "cell_type": "code",
   "execution_count": 13,
   "metadata": {},
   "outputs": [
    {
     "data": {
      "text/plain": [
       "'temp-plot.html'"
      ]
     },
     "execution_count": 13,
     "metadata": {},
     "output_type": "execute_result"
    }
   ],
   "source": [
    "fig = plot_stacked_funnel(df, accept_steps_two)\n",
    "plot(fig)\n",
    "\n",
    "# when running the monthly plots with date range\n",
    "\n",
    "# from chart_studio.plotly import plotly\n",
    "# from plotly.offline import plot\n",
    "# import plotly.graph_objs as go\n",
    "# fig = plot_stacked_funnel(df, accept_steps_two, from_date='2020-10-01', to_date='2020-10-31')\n",
    "# plot(fig)"
   ]
  },
  {
   "cell_type": "markdown",
   "metadata": {},
   "source": [
    "### Create a new column and tiers for ios versions, making it easier to analyse and build out a stacked funnel"
   ]
  },
  {
   "cell_type": "code",
   "execution_count": 31,
   "metadata": {},
   "outputs": [
    {
     "data": {
      "text/html": [
       "<div>\n",
       "<style scoped>\n",
       "    .dataframe tbody tr th:only-of-type {\n",
       "        vertical-align: middle;\n",
       "    }\n",
       "\n",
       "    .dataframe tbody tr th {\n",
       "        vertical-align: top;\n",
       "    }\n",
       "\n",
       "    .dataframe thead th {\n",
       "        text-align: right;\n",
       "    }\n",
       "</style>\n",
       "<table border=\"1\" class=\"dataframe\">\n",
       "  <thead>\n",
       "    <tr style=\"text-align: right;\">\n",
       "      <th></th>\n",
       "      <th>timestamp</th>\n",
       "      <th>event</th>\n",
       "      <th>user_id</th>\n",
       "      <th>context_os_version</th>\n",
       "      <th>event_name</th>\n",
       "      <th>ios_int</th>\n",
       "      <th>ios_tier</th>\n",
       "    </tr>\n",
       "  </thead>\n",
       "  <tbody>\n",
       "    <tr>\n",
       "      <th>0</th>\n",
       "      <td>2020-08-01 04:22:45.924</td>\n",
       "      <td>pos_home_capital_card_pressed</td>\n",
       "      <td>1560415889593-99b63968-1017-4588-a4e5-a7b48ce6...</td>\n",
       "      <td>11.1.2</td>\n",
       "      <td>Merchants Opening Capital Tab</td>\n",
       "      <td>11</td>\n",
       "      <td>ios_11</td>\n",
       "    </tr>\n",
       "    <tr>\n",
       "      <th>1</th>\n",
       "      <td>2020-08-01 05:18:05.086</td>\n",
       "      <td>pos_home_capital_card_pressed</td>\n",
       "      <td>1471697083279-b783deca-88d9-4f97-9e9a-bf9dad6c...</td>\n",
       "      <td>13.6</td>\n",
       "      <td>Merchants Opening Capital Tab</td>\n",
       "      <td>13</td>\n",
       "      <td>ios_13</td>\n",
       "    </tr>\n",
       "    <tr>\n",
       "      <th>2</th>\n",
       "      <td>2020-08-01 06:37:40.708</td>\n",
       "      <td>pos_home_capital_card_pressed</td>\n",
       "      <td>1534411372475-1f8ec9b3-4786-4afb-a9af-008dc86f...</td>\n",
       "      <td>13.6</td>\n",
       "      <td>Merchants Opening Capital Tab</td>\n",
       "      <td>13</td>\n",
       "      <td>ios_13</td>\n",
       "    </tr>\n",
       "    <tr>\n",
       "      <th>3</th>\n",
       "      <td>2020-08-01 08:14:49.313</td>\n",
       "      <td>pos_home_capital_card_pressed</td>\n",
       "      <td>1594410129560-67427b34-cdd7-4632-8c21-cc1bcce3...</td>\n",
       "      <td>13.5.1</td>\n",
       "      <td>Merchants Opening Capital Tab</td>\n",
       "      <td>13</td>\n",
       "      <td>ios_13</td>\n",
       "    </tr>\n",
       "    <tr>\n",
       "      <th>4</th>\n",
       "      <td>2020-08-01 08:55:21.598</td>\n",
       "      <td>pos_home_capital_card_pressed</td>\n",
       "      <td>1574670688114-0cbf4e3c-cf23-4250-923f-540a0a43...</td>\n",
       "      <td>13.5.1</td>\n",
       "      <td>Merchants Opening Capital Tab</td>\n",
       "      <td>13</td>\n",
       "      <td>ios_13</td>\n",
       "    </tr>\n",
       "  </tbody>\n",
       "</table>\n",
       "</div>"
      ],
      "text/plain": [
       "                timestamp                          event  \\\n",
       "0 2020-08-01 04:22:45.924  pos_home_capital_card_pressed   \n",
       "1 2020-08-01 05:18:05.086  pos_home_capital_card_pressed   \n",
       "2 2020-08-01 06:37:40.708  pos_home_capital_card_pressed   \n",
       "3 2020-08-01 08:14:49.313  pos_home_capital_card_pressed   \n",
       "4 2020-08-01 08:55:21.598  pos_home_capital_card_pressed   \n",
       "\n",
       "                                             user_id context_os_version  \\\n",
       "0  1560415889593-99b63968-1017-4588-a4e5-a7b48ce6...             11.1.2   \n",
       "1  1471697083279-b783deca-88d9-4f97-9e9a-bf9dad6c...               13.6   \n",
       "2  1534411372475-1f8ec9b3-4786-4afb-a9af-008dc86f...               13.6   \n",
       "3  1594410129560-67427b34-cdd7-4632-8c21-cc1bcce3...             13.5.1   \n",
       "4  1574670688114-0cbf4e3c-cf23-4250-923f-540a0a43...             13.5.1   \n",
       "\n",
       "                      event_name  ios_int ios_tier  \n",
       "0  Merchants Opening Capital Tab       11   ios_11  \n",
       "1  Merchants Opening Capital Tab       13   ios_13  \n",
       "2  Merchants Opening Capital Tab       13   ios_13  \n",
       "3  Merchants Opening Capital Tab       13   ios_13  \n",
       "4  Merchants Opening Capital Tab       13   ios_13  "
      ]
     },
     "execution_count": 31,
     "metadata": {},
     "output_type": "execute_result"
    }
   ],
   "source": [
    "# Lets create tiers / cohorts for os versions\n",
    "df['ios_int'] = df['context_os_version'].str.split('.').str[0].astype(int)\n",
    "\n",
    "# create a list of our conditions\n",
    "conditions = [\n",
    "    (df['ios_int'] < 11),\n",
    "    (df['ios_int'] >= 11) & (df['ios_int'] < 12),\n",
    "    (df['ios_int'] >= 12) & (df['ios_int'] < 13),\n",
    "    (df['ios_int'] >= 13) & (df['ios_int'] < 14),\n",
    "    (df['ios_int'] >= 14)\n",
    "    ]\n",
    "\n",
    "# create a list of the values we want to assign for each condition\n",
    "values = ['ios_10', 'ios_11', 'ios_12', 'ios_13', 'ios_14']\n",
    "\n",
    "# create a new column and use np.select to assign values to it using our lists as arguments\n",
    "df['ios_tier'] = np.select(conditions, values)\n",
    "df.head()"
   ]
  },
  {
   "cell_type": "code",
   "execution_count": 32,
   "metadata": {},
   "outputs": [
    {
     "data": {
      "text/plain": [
       "<matplotlib.axes._subplots.AxesSubplot at 0x1a1f86c190>"
      ]
     },
     "execution_count": 32,
     "metadata": {},
     "output_type": "execute_result"
    },
    {
     "data": {
      "image/png": "[encoded data removed]",
      "text/plain": [
       "<Figure size 1080x432 with 1 Axes>"
      ]
     },
     "metadata": {
      "needs_background": "light"
     },
     "output_type": "display_data"
    }
   ],
   "source": [
    "iosdf = df.groupby( [ \"ios_int\"] )['user_id'].count().reset_index()\n",
    "iosdf.columns = ['ios_version', 'count']\n",
    "iosdf = iosdf.set_index('ios_version')\n",
    "iosdf.plot.bar(figsize=(15, 6),color='#24a0db')"
   ]
  },
  {
   "cell_type": "code",
   "execution_count": 17,
   "metadata": {},
   "outputs": [
    {
     "data": {
      "text/plain": [
       "'temp-plot.html'"
      ]
     },
     "execution_count": 17,
     "metadata": {},
     "output_type": "execute_result"
    }
   ],
   "source": [
    "# make a df for 10, 11 and 12\n",
    "# filter df for only events in the steps list\n",
    "ios_old = ['ios_10', 'ios_11', 'ios_12']\n",
    "ios_older = df[df['ios_tier'].isin(ios_old)]\n",
    "\n",
    "fig = plot_stacked_funnel(ios_older, accept_steps, col='ios_tier')\n",
    "plot(fig)"
   ]
  },
  {
   "cell_type": "code",
   "execution_count": 18,
   "metadata": {},
   "outputs": [
    {
     "data": {
      "text/plain": [
       "'temp-plot.html'"
      ]
     },
     "execution_count": 18,
     "metadata": {},
     "output_type": "execute_result"
    }
   ],
   "source": [
    "# make a df for 13 & 14\n",
    "# filter df for only events in the steps list\n",
    "ios_new = ['ios_13', 'ios_14']\n",
    "ios_new = df[df['ios_tier'].isin(ios_new)]\n",
    "\n",
    "fig = plot_stacked_funnel(ios_new, accept_steps, col='ios_tier')\n",
    "plot(fig)"
   ]
  },
  {
   "cell_type": "code",
   "execution_count": null,
   "metadata": {},
   "outputs": [],
   "source": []
  }
 ],
 "metadata": {
  "kernelspec": {
   "display_name": "Python 3",
   "language": "python",
   "name": "python3"
  },
  "language_info": {
   "codemirror_mode": {
    "name": "ipython",
    "version": 3
   },
   "file_extension": ".py",
   "mimetype": "text/x-python",
   "name": "python",
   "nbconvert_exporter": "python",
   "pygments_lexer": "ipython3",
   "version": "3.7.6"
  }
 },
 "nbformat": 4,
 "nbformat_minor": 4
}
