{
 "cells": [
  {
   "cell_type": "markdown",
   "metadata": {},
   "source": [
    "# Preliminary Data Processing\n",
    "To start off, we read in our dataset and generate a simple preview and statistics of our data."
   ]
  },
  {
   "cell_type": "code",
   "execution_count": 6,
   "metadata": {},
   "outputs": [
    {
     "data": {
      "text/html": [
       "<div>\n",
       "<style scoped>\n",
       "    .dataframe tbody tr th:only-of-type {\n",
       "        vertical-align: middle;\n",
       "    }\n",
       "\n",
       "    .dataframe tbody tr th {\n",
       "        vertical-align: top;\n",
       "    }\n",
       "\n",
       "    .dataframe thead th {\n",
       "        text-align: right;\n",
       "    }\n",
       "</style>\n",
       "<table border=\"1\" class=\"dataframe\">\n",
       "  <thead>\n",
       "    <tr style=\"text-align: right;\">\n",
       "      <th></th>\n",
       "      <th>timestamp</th>\n",
       "      <th>event</th>\n",
       "      <th>user_id</th>\n",
       "      <th>context_os_version</th>\n",
       "    </tr>\n",
       "  </thead>\n",
       "  <tbody>\n",
       "    <tr>\n",
       "      <th>0</th>\n",
       "      <td>2020-08-01 04:22:45.924000</td>\n",
       "      <td>pos_home_capital_card_pressed</td>\n",
       "      <td>1560415889593-99b63968-1017-4588-a4e5-a7b48ce6...</td>\n",
       "      <td>11.1.2</td>\n",
       "    </tr>\n",
       "    <tr>\n",
       "      <th>1</th>\n",
       "      <td>2020-08-01 05:18:05.086000</td>\n",
       "      <td>pos_home_capital_card_pressed</td>\n",
       "      <td>1471697083279-b783deca-88d9-4f97-9e9a-bf9dad6c...</td>\n",
       "      <td>13.6</td>\n",
       "    </tr>\n",
       "    <tr>\n",
       "      <th>2</th>\n",
       "      <td>2020-08-01 06:37:40.708000</td>\n",
       "      <td>pos_home_capital_card_pressed</td>\n",
       "      <td>1534411372475-1f8ec9b3-4786-4afb-a9af-008dc86f...</td>\n",
       "      <td>13.6</td>\n",
       "    </tr>\n",
       "    <tr>\n",
       "      <th>3</th>\n",
       "      <td>2020-08-01 08:14:49.313000</td>\n",
       "      <td>pos_home_capital_card_pressed</td>\n",
       "      <td>1594410129560-67427b34-cdd7-4632-8c21-cc1bcce3...</td>\n",
       "      <td>13.5.1</td>\n",
       "    </tr>\n",
       "    <tr>\n",
       "      <th>4</th>\n",
       "      <td>2020-08-01 08:55:21.598000</td>\n",
       "      <td>pos_home_capital_card_pressed</td>\n",
       "      <td>1574670688114-0cbf4e3c-cf23-4250-923f-540a0a43...</td>\n",
       "      <td>13.5.1</td>\n",
       "    </tr>\n",
       "  </tbody>\n",
       "</table>\n",
       "</div>"
      ],
      "text/plain": [
       "                    timestamp                          event  \\\n",
       "0  2020-08-01 04:22:45.924000  pos_home_capital_card_pressed   \n",
       "1  2020-08-01 05:18:05.086000  pos_home_capital_card_pressed   \n",
       "2  2020-08-01 06:37:40.708000  pos_home_capital_card_pressed   \n",
       "3  2020-08-01 08:14:49.313000  pos_home_capital_card_pressed   \n",
       "4  2020-08-01 08:55:21.598000  pos_home_capital_card_pressed   \n",
       "\n",
       "                                             user_id context_os_version  \n",
       "0  1560415889593-99b63968-1017-4588-a4e5-a7b48ce6...             11.1.2  \n",
       "1  1471697083279-b783deca-88d9-4f97-9e9a-bf9dad6c...               13.6  \n",
       "2  1534411372475-1f8ec9b3-4786-4afb-a9af-008dc86f...               13.6  \n",
       "3  1594410129560-67427b34-cdd7-4632-8c21-cc1bcce3...             13.5.1  \n",
       "4  1574670688114-0cbf4e3c-cf23-4250-923f-540a0a43...             13.5.1  "
      ]
     },
     "execution_count": 6,
     "metadata": {},
     "output_type": "execute_result"
    }
   ],
   "source": [
    "import pandas as pd\n",
    "import numpy as np\n",
    "import matplotlib\n",
    "import matplotlib.pyplot as plt\n",
    "import seaborn as sns\n",
    "import missingno\n",
    "from ipynb.fs.full.functions import eda, top5, categorical_eda\n",
    "%matplotlib inline\n",
    "\n",
    "# import dataset and view head\n",
    "df = pd.read_csv('data/yoco/capital_events_case_study.csv')\n",
    "df.head()"
   ]
  },
  {
   "cell_type": "markdown",
   "metadata": {},
   "source": [
    "### Lets make sure the timestamp is a date and then run our EDA functions"
   ]
  },
  {
   "cell_type": "code",
   "execution_count": 7,
   "metadata": {},
   "outputs": [
    {
     "name": "stdout",
     "output_type": "stream",
     "text": [
      "Preview of data:\n"
     ]
    },
    {
     "data": {
      "text/html": [
       "<div>\n",
       "<style scoped>\n",
       "    .dataframe tbody tr th:only-of-type {\n",
       "        vertical-align: middle;\n",
       "    }\n",
       "\n",
       "    .dataframe tbody tr th {\n",
       "        vertical-align: top;\n",
       "    }\n",
       "\n",
       "    .dataframe thead th {\n",
       "        text-align: right;\n",
       "    }\n",
       "</style>\n",
       "<table border=\"1\" class=\"dataframe\">\n",
       "  <thead>\n",
       "    <tr style=\"text-align: right;\">\n",
       "      <th></th>\n",
       "      <th>timestamp</th>\n",
       "      <th>event</th>\n",
       "      <th>user_id</th>\n",
       "      <th>context_os_version</th>\n",
       "    </tr>\n",
       "  </thead>\n",
       "  <tbody>\n",
       "    <tr>\n",
       "      <th>0</th>\n",
       "      <td>2020-08-01 04:22:45.924</td>\n",
       "      <td>pos_home_capital_card_pressed</td>\n",
       "      <td>1560415889593-99b63968-1017-4588-a4e5-a7b48ce6...</td>\n",
       "      <td>11.1.2</td>\n",
       "    </tr>\n",
       "    <tr>\n",
       "      <th>1</th>\n",
       "      <td>2020-08-01 05:18:05.086</td>\n",
       "      <td>pos_home_capital_card_pressed</td>\n",
       "      <td>1471697083279-b783deca-88d9-4f97-9e9a-bf9dad6c...</td>\n",
       "      <td>13.6</td>\n",
       "    </tr>\n",
       "    <tr>\n",
       "      <th>2</th>\n",
       "      <td>2020-08-01 06:37:40.708</td>\n",
       "      <td>pos_home_capital_card_pressed</td>\n",
       "      <td>1534411372475-1f8ec9b3-4786-4afb-a9af-008dc86f...</td>\n",
       "      <td>13.6</td>\n",
       "    </tr>\n",
       "  </tbody>\n",
       "</table>\n",
       "</div>"
      ],
      "text/plain": [
       "                timestamp                          event  \\\n",
       "0 2020-08-01 04:22:45.924  pos_home_capital_card_pressed   \n",
       "1 2020-08-01 05:18:05.086  pos_home_capital_card_pressed   \n",
       "2 2020-08-01 06:37:40.708  pos_home_capital_card_pressed   \n",
       "\n",
       "                                             user_id context_os_version  \n",
       "0  1560415889593-99b63968-1017-4588-a4e5-a7b48ce6...             11.1.2  \n",
       "1  1471697083279-b783deca-88d9-4f97-9e9a-bf9dad6c...               13.6  \n",
       "2  1534411372475-1f8ec9b3-4786-4afb-a9af-008dc86f...               13.6  "
      ]
     },
     "metadata": {},
     "output_type": "display_data"
    },
    {
     "name": "stdout",
     "output_type": "stream",
     "text": [
      "\n",
      "To check: \n",
      " (1) Total number of entries \n",
      " (2) Column types \n",
      " (3) Any null values\n",
      "\n",
      "<class 'pandas.core.frame.DataFrame'>\n",
      "RangeIndex: 25046 entries, 0 to 25045\n",
      "Data columns (total 4 columns):\n",
      "timestamp             25046 non-null datetime64[ns]\n",
      "event                 25046 non-null object\n",
      "user_id               25041 non-null object\n",
      "context_os_version    25046 non-null object\n",
      "dtypes: datetime64[ns](1), object(3)\n",
      "memory usage: 782.8+ KB\n",
      "None\n",
      "\n",
      "Preview of data with null values:\n"
     ]
    },
    {
     "data": {
      "text/html": [
       "<div>\n",
       "<style scoped>\n",
       "    .dataframe tbody tr th:only-of-type {\n",
       "        vertical-align: middle;\n",
       "    }\n",
       "\n",
       "    .dataframe tbody tr th {\n",
       "        vertical-align: top;\n",
       "    }\n",
       "\n",
       "    .dataframe thead th {\n",
       "        text-align: right;\n",
       "    }\n",
       "</style>\n",
       "<table border=\"1\" class=\"dataframe\">\n",
       "  <thead>\n",
       "    <tr style=\"text-align: right;\">\n",
       "      <th></th>\n",
       "      <th>timestamp</th>\n",
       "      <th>event</th>\n",
       "      <th>user_id</th>\n",
       "      <th>context_os_version</th>\n",
       "    </tr>\n",
       "  </thead>\n",
       "  <tbody>\n",
       "    <tr>\n",
       "      <th>2714</th>\n",
       "      <td>2020-08-11 17:08:10.114</td>\n",
       "      <td>pos_home_capital_card_pressed</td>\n",
       "      <td>NaN</td>\n",
       "      <td>12.4.8</td>\n",
       "    </tr>\n",
       "    <tr>\n",
       "      <th>15243</th>\n",
       "      <td>2020-10-09 11:01:27.689</td>\n",
       "      <td>pos_home_capital_card_pressed</td>\n",
       "      <td>NaN</td>\n",
       "      <td>13.6.1</td>\n",
       "    </tr>\n",
       "    <tr>\n",
       "      <th>19897</th>\n",
       "      <td>2020-10-26 12:14:17.946</td>\n",
       "      <td>pos_home_capital_card_pressed</td>\n",
       "      <td>NaN</td>\n",
       "      <td>12.4.8</td>\n",
       "    </tr>\n",
       "  </tbody>\n",
       "</table>\n",
       "</div>"
      ],
      "text/plain": [
       "                    timestamp                          event user_id  \\\n",
       "2714  2020-08-11 17:08:10.114  pos_home_capital_card_pressed     NaN   \n",
       "15243 2020-10-09 11:01:27.689  pos_home_capital_card_pressed     NaN   \n",
       "19897 2020-10-26 12:14:17.946  pos_home_capital_card_pressed     NaN   \n",
       "\n",
       "      context_os_version  \n",
       "2714              12.4.8  \n",
       "15243             13.6.1  \n",
       "19897             12.4.8  "
      ]
     },
     "metadata": {},
     "output_type": "display_data"
    },
    {
     "data": {
      "image/png": "[encoded data removed]",
      "text/plain": [
       "<Figure size 1800x720 with 2 Axes>"
      ]
     },
     "metadata": {
      "needs_background": "light"
     },
     "output_type": "display_data"
    },
    {
     "name": "stdout",
     "output_type": "stream",
     "text": [
      "\n",
      "***Number of duplicated entries:  1\n"
     ]
    },
    {
     "data": {
      "text/html": [
       "<div>\n",
       "<style scoped>\n",
       "    .dataframe tbody tr th:only-of-type {\n",
       "        vertical-align: middle;\n",
       "    }\n",
       "\n",
       "    .dataframe tbody tr th {\n",
       "        vertical-align: top;\n",
       "    }\n",
       "\n",
       "    .dataframe thead th {\n",
       "        text-align: right;\n",
       "    }\n",
       "</style>\n",
       "<table border=\"1\" class=\"dataframe\">\n",
       "  <thead>\n",
       "    <tr style=\"text-align: right;\">\n",
       "      <th></th>\n",
       "      <th>timestamp</th>\n",
       "      <th>event</th>\n",
       "      <th>user_id</th>\n",
       "      <th>context_os_version</th>\n",
       "    </tr>\n",
       "  </thead>\n",
       "  <tbody>\n",
       "    <tr>\n",
       "      <th>12086</th>\n",
       "      <td>2020-09-28 00:26:20.337</td>\n",
       "      <td>pos_capital_button_let_me_know</td>\n",
       "      <td>1564406006402-6d3df83d-40cb-4f88-969f-67266f2c...</td>\n",
       "      <td>12.4.8</td>\n",
       "    </tr>\n",
       "    <tr>\n",
       "      <th>12642</th>\n",
       "      <td>2020-09-28 00:26:20.337</td>\n",
       "      <td>pos_capital_button_let_me_know</td>\n",
       "      <td>1564406006402-6d3df83d-40cb-4f88-969f-67266f2c...</td>\n",
       "      <td>12.4.8</td>\n",
       "    </tr>\n",
       "  </tbody>\n",
       "</table>\n",
       "</div>"
      ],
      "text/plain": [
       "                    timestamp                           event  \\\n",
       "12086 2020-09-28 00:26:20.337  pos_capital_button_let_me_know   \n",
       "12642 2020-09-28 00:26:20.337  pos_capital_button_let_me_know   \n",
       "\n",
       "                                                 user_id context_os_version  \n",
       "12086  1564406006402-6d3df83d-40cb-4f88-969f-67266f2c...             12.4.8  \n",
       "12642  1564406006402-6d3df83d-40cb-4f88-969f-67266f2c...             12.4.8  "
      ]
     },
     "metadata": {},
     "output_type": "display_data"
    },
    {
     "name": "stdout",
     "output_type": "stream",
     "text": [
      "\n",
      "To check: \n",
      "Unique count of non-numeric data\n",
      "\n",
      "event                    9\n",
      "user_id               4111\n",
      "context_os_version      68\n",
      "dtype: int64\n",
      "Top 5 unique values of event\n",
      "                                 event  Count\n",
      "0        pos_home_capital_card_pressed  22281\n",
      "1       pos_capital_button_let_me_know    939\n",
      "2  pos_capital_button_get_cash_advance    626\n",
      "3          pos_capital_button_continue    545\n",
      "4      pos_capital_button_accept_offer    318\n",
      " \n",
      "Top 5 unique values of user_id\n",
      "                                             user_id  Count\n",
      "0  1593804880686-0e0ca35a-c7c4-4878-9f3a-161df62c...    261\n",
      "1  1518421649600-b1e4fef2-f94c-44a4-a059-06538056...    242\n",
      "2  1547271028164-367f154f-bcfc-40ab-ad9c-536a971f...    187\n",
      "3  1489131121216-a3f50115-3139-4aa3-8da6-9ebfc027...    184\n",
      "4  1587849726340-87f0b6ba-c94c-446d-a702-7587384e...    181\n",
      " \n",
      "Top 5 unique values of context_os_version\n",
      "  context_os_version  Count\n",
      "0               13.7   5639\n",
      "1             13.6.1   4004\n",
      "2               13.6   2657\n",
      "3             14.0.1   2369\n",
      "4             13.5.1   2347\n",
      " \n"
     ]
    }
   ],
   "source": [
    "# set timestamp to correct data type\n",
    "df['timestamp'] = pd.to_datetime(df['timestamp'])\n",
    "# run EDA functions\n",
    "eda(df)"
   ]
  },
  {
   "cell_type": "markdown",
   "metadata": {},
   "source": [
    "### we can remove the bulls and duplicates, then chekc out the dates in the dataset"
   ]
  },
  {
   "cell_type": "code",
   "execution_count": 8,
   "metadata": {},
   "outputs": [],
   "source": [
    "# Remove nulls as there are only 5 a very small percentage\n",
    "df=df.dropna()\n",
    "# Dop duplicate rows as there is only 1\n",
    "df.drop_duplicates(inplace=True)"
   ]
  },
  {
   "cell_type": "code",
   "execution_count": 9,
   "metadata": {},
   "outputs": [
    {
     "data": {
      "image/png": "[encoded data removed]",
      "text/plain": [
       "<Figure size 1080x432 with 1 Axes>"
      ]
     },
     "metadata": {},
     "output_type": "display_data"
    }
   ],
   "source": [
    "df = df.set_index('timestamp')\n",
    "\n",
    "# Add columns with year, month, and weekday name\n",
    "df['Year'] = df.index.year\n",
    "df['Month'] = df.index.month\n",
    "df['Day'] = df.index.day\n",
    "df['Date'] = df.index.date\n",
    "df['Weekday Name'] = df.index.weekday_name\n",
    "\n",
    "eventcounts = df.groupby('Date')['user_id'].count()\n",
    "# Use seaborn style defaults and set the default figure size\n",
    "sns.set(rc={'figure.figsize':(25, 8)})\n",
    "\n",
    "eventcounts.plot(marker='o', alpha=0.5, linestyle='--', figsize=(15, 6), subplots=True, color='#24a0db');"
   ]
  },
  {
   "cell_type": "markdown",
   "metadata": {},
   "source": [
    "### For our final dataset, lets remove June & July data as well as the half month of data for November.\n",
    "### This will be conducted in other workbooks at the start before any analysis"
   ]
  },
  {
   "cell_type": "code",
   "execution_count": null,
   "metadata": {},
   "outputs": [],
   "source": []
  }
 ],
 "metadata": {
  "kernelspec": {
   "display_name": "Python 3",
   "language": "python",
   "name": "python3"
  },
  "language_info": {
   "codemirror_mode": {
    "name": "ipython",
    "version": 3
   },
   "file_extension": ".py",
   "mimetype": "text/x-python",
   "name": "python",
   "nbconvert_exporter": "python",
   "pygments_lexer": "ipython3",
   "version": "3.7.6"
  }
 },
 "nbformat": 4,
 "nbformat_minor": 4
}
